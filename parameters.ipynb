{
 "cells": [
  {
   "cell_type": "code",
   "execution_count": 1,
   "metadata": {},
   "outputs": [],
   "source": [
    "from functools import partial\n",
    "\n",
    "import numpy as np\n",
    "from scipy.integrate import solve_ivp\n",
    "import seaborn as sns\n",
    "import matplotlib.pyplot as plt\n",
    "\n",
    "sns.set_context('paper', font_scale=1.4)"
   ]
  },
  {
   "cell_type": "markdown",
   "metadata": {},
   "source": [
    "The wavelength of a Turing pattern is $2\\pi/k$ where \n",
    "$$ k^2 = \\frac{-d_u d_v(f_u - g_v) + (d_u + d_v)\\sqrt{-d_u d_v f_v g_u}}{d_u d_v(d_v - d_u)}$$\n",
    "\n",
    "The linearized substrate depletion model (Miura & Maini, 2004) is\n",
    "$$ \n",
    "\\begin{eqnarray*}\n",
    "\\dot u & = & 0.5u + 0.6v - u^3 + 2\\tilde\\Delta u \\\\\n",
    "\\dot v & = & -1.9u - 2v + 25\\tilde\\Delta v \n",
    "\\end{eqnarray*}$$"
   ]
  },
  {
   "cell_type": "code",
   "execution_count": 28,
   "metadata": {},
   "outputs": [
    {
     "data": {
      "text/plain": [
       "23.996077217466947"
      ]
     },
     "execution_count": 28,
     "metadata": {},
     "output_type": "execute_result"
    }
   ],
   "source": [
    "fu = 0.5; fv = 0.6; du = 2; gu = -1.9; gv = -2; dv = 25;\n",
    "\n",
    "k = np.sqrt((-du*dv*(fu - gv) + (du + dv)*np.sqrt(-du*dv*fv*gu)) / (du*dv*(dv - du)))\n",
    "2*np.pi/k"
   ]
  },
  {
   "cell_type": "code",
   "execution_count": 29,
   "metadata": {},
   "outputs": [],
   "source": [
    "x = np.arange(0, 101, 1)\n",
    "\n",
    "\n",
    "D = 0.1\n",
    "d = 0.01\n",
    "\n",
    "def source(coupling, _, c):\n",
    "    dcdt = D*coupling(c) - d*c\n",
    "    dcdt[0] = 0\n",
    "    return dcdt\n",
    "    \n",
    "    \n",
    "offset = 1\n",
    "\n",
    "def turing(coupling, _, uv):\n",
    "#     assert (uv > 0).all()\n",
    "    u = uv[:101]\n",
    "    v = uv[101:]\n",
    "\n",
    "    dudt = 0.5*(u - offset) + 0.6*(v - offset) - (u - offset)**3 + 2*coupling(u)\n",
    "    dvdt = -1.9*(u - offset) - 2*(v - offset) + 25*coupling(v)\n",
    "    return np.append(dudt, dvdt)\n",
    "\n",
    "\n",
    "def test_diffusion_model(coupling):\n",
    "    \"\"\"Plot gradient from source and Turing pattern\"\"\"\n",
    "    plt.figure(figsize=(12, 3))\n",
    "\n",
    "    analytic_gradient = np.exp(-np.sqrt(d/D)*x)\n",
    "    c_0 = np.append(1, np.zeros(len(x) - 1))\n",
    "    c = solve_ivp(partial(source, coupling), [0, 1e3], c_0, 'BDF')\n",
    "\n",
    "    plt.subplot2grid(shape=(1, 4), loc=(0, 0))\n",
    "    plt.plot(x[:26], analytic_gradient[:26], 'k')\n",
    "    plt.plot(x[:26], c.y[:, -1][:26], 'ko')\n",
    "    plt.legend(['Exponential', coupling.description], frameon=False)\n",
    "    plt.xlabel('Space')\n",
    "    plt.xlim([-1, 26])\n",
    "    plt.ylabel('Concentration')\n",
    "    plt.yticks([])\n",
    "\n",
    "    uv_0 = offset + np.random.rand(len(x)*2)/100\n",
    "    uv = solve_ivp(partial(turing, coupling), [0, 1e3], uv_0, 'BDF')\n",
    "\n",
    "    plt.subplot2grid(shape=(1, 4), loc=(0, 1), colspan=3)\n",
    "    plt.plot(x, uv.y[:, -1][101:], 'ko')\n",
    "    plt.xlabel('Space')\n",
    "    plt.xlim([-1, 101])\n",
    "    plt.yticks([0, offset], ['', '$u_0$'])\n",
    "\n",
    "    sns.despine()\n",
    "    plt.tight_layout()\n",
    "    plt.savefig(coupling.description.replace(' ', '_').replace(\"'\", '').replace('.', '') + '.png', \n",
    "                dpi=300)\n",
    "    plt.show()"
   ]
  },
  {
   "cell_type": "code",
   "execution_count": 30,
   "metadata": {},
   "outputs": [
    {
     "data": {
      "image/png": "[encoded data removed]",
      "text/plain": [
       "<matplotlib.figure.Figure at 0x1a1b7978d0>"
      ]
     },
     "metadata": {
      "needs_background": "light"
     },
     "output_type": "display_data"
    }
   ],
   "source": [
    "def ficks_law(u):\n",
    "    \"\"\"Finite difference scheme for Fick's law\"\"\"\n",
    "    lapl = np.empty(len(u))\n",
    "    lapl[0] = u[-1] - 2*u[0] + u[1]\n",
    "    lapl[1:-1] = u[:-2] - 2*u[1:-1] + u[2:]\n",
    "    lapl[-1] = u[-2] - 2*u[-1] + u[0]\n",
    "    return lapl\n",
    "\n",
    "\n",
    "ficks_law.description = \"Fick's law\"\n",
    "test_diffusion_model(ficks_law)"
   ]
  }
 ],
 "metadata": {
  "kernelspec": {
   "display_name": "Python [default]",
   "language": "python",
   "name": "python3"
  },
  "language_info": {
   "codemirror_mode": {
    "name": "ipython",
    "version": 3
   },
   "file_extension": ".py",
   "mimetype": "text/x-python",
   "name": "python",
   "nbconvert_exporter": "python",
   "pygments_lexer": "ipython3",
   "version": "3.6.6"
  }
 },
 "nbformat": 4,
 "nbformat_minor": 2
}
